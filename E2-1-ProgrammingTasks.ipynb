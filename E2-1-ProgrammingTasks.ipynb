{
 "cells": [
  {
   "cell_type": "markdown",
   "id": "acfef92f",
   "metadata": {},
   "source": [
    "# Task 1: Take a break and Kit Kat\n"
   ]
  },
  {
   "cell_type": "code",
   "execution_count": 7,
   "id": "9ca57820",
   "metadata": {},
   "outputs": [
    {
     "name": "stdout",
     "output_type": "stream",
     "text": [
      "Time to take a small break...\n"
     ]
    },
    {
     "ename": "KeyboardInterrupt",
     "evalue": "",
     "output_type": "error",
     "traceback": [
      "\u001b[0;31m---------------------------------------------------------------------------\u001b[0m",
      "\u001b[0;31mKeyboardInterrupt\u001b[0m                         Traceback (most recent call last)",
      "Cell \u001b[0;32mIn[7], line 12\u001b[0m\n\u001b[1;32m      9\u001b[0m     time\u001b[38;5;241m.\u001b[39msleep(\u001b[38;5;241m5\u001b[39m)\n\u001b[1;32m     11\u001b[0m \u001b[38;5;28;01mwhile\u001b[39;00m(\u001b[38;5;28;01mTrue\u001b[39;00m):\n\u001b[0;32m---> 12\u001b[0m     time\u001b[38;5;241m.\u001b[39msleep(\u001b[38;5;241m30\u001b[39m)\n\u001b[1;32m     13\u001b[0m     take_break()\n",
      "\u001b[0;31mKeyboardInterrupt\u001b[0m: "
     ]
    }
   ],
   "source": [
    "import webbrowser\n",
    "import time\n",
    "\n",
    "\n",
    "def take_break():\n",
    "    url = \"https://www.youtube.com/watch?v=dQw4w9WgXcQ\"\n",
    "    print(\"Time to take a small break...\")\n",
    "    webbrowser.open(url)\n",
    "    time.sleep(5)\n",
    "\n",
    "while(True):\n",
    "    time.sleep(30)\n",
    "    take_break()"
   ]
  },
  {
   "cell_type": "markdown",
   "id": "61c832b4",
   "metadata": {},
   "source": [
    "# Task 2: "
   ]
  },
  {
   "cell_type": "code",
   "execution_count": 5,
   "id": "6ab18f06",
   "metadata": {},
   "outputs": [
    {
     "name": "stdout",
     "output_type": "stream",
     "text": [
      "New name: colombo.jpg\n",
      "New name: buenos aires.jpg\n",
      "New name: edinbrugh.jpg\n",
      "New name: tel aviv.jpg\n",
      "New name: singapore.jpg\n",
      "New name: .DS_Store\n",
      "New name: new york.jpg\n",
      "New name: rochester.jpg\n",
      "New name: delhi.jpg\n",
      "New name: austin.jpg\n",
      "New name: bogota.jpg\n",
      "New name: beijing.jpg\n",
      "New name: cairo.jpg\n",
      "New name: bangalore.jpg\n",
      "New name: gainesville.jpg\n",
      "New name: london.jpg\n",
      "New name: dallas.jpg\n",
      "New name: san jose.jpg\n",
      "New name: athens.jpg\n",
      "New name: pune.jpg\n",
      "New name: miami.jpg\n",
      "New name: barcelona.jpg\n",
      "New name: sydney.jpg\n",
      "New name: shanghai.jpg\n",
      "New name: jacksonville.jpg\n",
      "New name: manchester.jpg\n",
      "New name: berkeley.jpg\n",
      "New name: houston.jpg\n",
      "New name: sao paulo.jpg\n",
      "New name: seattle.jpg\n",
      "New name: oakland.jpg\n",
      "New name: ithaca.jpg\n",
      "New name: los angeles.jpg\n",
      "New name: kiev.jpg\n",
      "New name: san diego.jpg\n",
      "New name: hyderabad.jpg\n",
      "New name: bristol.jpg\n",
      "New name: madrid.jpg\n",
      "New name: istanbul.jpg\n",
      "New name: bucharest.jpg\n",
      "New name: seoul.jpg\n",
      "New name: chennai.jpg\n",
      "New name: chicago.jpg\n",
      "New name: sunnyvale.jpg\n",
      "New name: karachi.jpg\n"
     ]
    }
   ],
   "source": [
    "import os\n",
    "\n",
    "basePath = \"/home/cat/Jupyter/School/BI/E2-1-assets/prank/\"\n",
    "\n",
    "for (root, dirs, files) in os.walk(basePath):\n",
    "    for (file) in files:\n",
    "        newFile = new_string = ''.join((x for x in file if not x.isdigit()))\n",
    "        os.rename(basePath+file, basePath+newFile)\n",
    "        print(\"New name:\", newFile)\n",
    "           \n"
   ]
  }
 ],
 "metadata": {
  "kernelspec": {
   "display_name": "Python 3 (ipykernel)",
   "language": "python",
   "name": "python3"
  },
  "language_info": {
   "codemirror_mode": {
    "name": "ipython",
    "version": 3
   },
   "file_extension": ".py",
   "mimetype": "text/x-python",
   "name": "python",
   "nbconvert_exporter": "python",
   "pygments_lexer": "ipython3",
   "version": "3.11.5"
  }
 },
 "nbformat": 4,
 "nbformat_minor": 5
}
